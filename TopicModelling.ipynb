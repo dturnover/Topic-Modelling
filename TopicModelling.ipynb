{
 "cells": [
  {
   "cell_type": "markdown",
   "id": "8ec76388",
   "metadata": {},
   "source": [
    "# Final Project"
   ]
  },
  {
   "cell_type": "code",
   "execution_count": 1,
   "id": "5a26419f",
   "metadata": {},
   "outputs": [],
   "source": [
    "import pandas as pd\n",
    "import numpy as np\n",
    "\n",
    "import spacy\n",
    "import nltk\n",
    "\n",
    "from nltk.corpus import stopwords\n",
    "\n",
    "from sklearn.feature_extraction.text import TfidfVectorizer\n",
    "from sklearn.feature_extraction.text import CountVectorizer\n",
    "\n",
    "from sklearn.decomposition import NMF\n",
    "from sklearn.decomposition import LatentDirichletAllocation"
   ]
  },
  {
   "cell_type": "code",
   "execution_count": 2,
   "id": "9f5b34af",
   "metadata": {},
   "outputs": [
    {
     "name": "stderr",
     "output_type": "stream",
     "text": [
      "[nltk_data] Downloading package stopwords to\n",
      "[nltk_data]     C:\\Users\\muggs\\AppData\\Roaming\\nltk_data...\n",
      "[nltk_data]   Package stopwords is already up-to-date!\n"
     ]
    },
    {
     "data": {
      "text/plain": [
       "True"
      ]
     },
     "execution_count": 2,
     "metadata": {},
     "output_type": "execute_result"
    }
   ],
   "source": [
    "nlp = spacy.load('en_core_web_sm')\n",
    "\n",
    "nltk.download('stopwords')"
   ]
  },
  {
   "cell_type": "markdown",
   "id": "64135af3",
   "metadata": {},
   "source": [
    "## EDA before preprocessing\n",
    "### Import data"
   ]
  },
  {
   "cell_type": "code",
   "execution_count": 3,
   "id": "02b22c3f",
   "metadata": {},
   "outputs": [
    {
     "data": {
      "text/plain": [
       "(19579, 3)"
      ]
     },
     "execution_count": 3,
     "metadata": {},
     "output_type": "execute_result"
    }
   ],
   "source": [
    "train_df = pd.read_csv('train.csv')\n",
    "train_df.shape"
   ]
  },
  {
   "cell_type": "code",
   "execution_count": 4,
   "id": "f15f0d56",
   "metadata": {},
   "outputs": [
    {
     "data": {
      "text/html": [
       "<div>\n",
       "<style scoped>\n",
       "    .dataframe tbody tr th:only-of-type {\n",
       "        vertical-align: middle;\n",
       "    }\n",
       "\n",
       "    .dataframe tbody tr th {\n",
       "        vertical-align: top;\n",
       "    }\n",
       "\n",
       "    .dataframe thead th {\n",
       "        text-align: right;\n",
       "    }\n",
       "</style>\n",
       "<table border=\"1\" class=\"dataframe\">\n",
       "  <thead>\n",
       "    <tr style=\"text-align: right;\">\n",
       "      <th></th>\n",
       "      <th>id</th>\n",
       "      <th>text</th>\n",
       "      <th>author</th>\n",
       "    </tr>\n",
       "  </thead>\n",
       "  <tbody>\n",
       "    <tr>\n",
       "      <th>0</th>\n",
       "      <td>id26305</td>\n",
       "      <td>This process, however, afforded me no means of...</td>\n",
       "      <td>EAP</td>\n",
       "    </tr>\n",
       "    <tr>\n",
       "      <th>1</th>\n",
       "      <td>id17569</td>\n",
       "      <td>It never once occurred to me that the fumbling...</td>\n",
       "      <td>HPL</td>\n",
       "    </tr>\n",
       "    <tr>\n",
       "      <th>2</th>\n",
       "      <td>id11008</td>\n",
       "      <td>In his left hand was a gold snuff box, from wh...</td>\n",
       "      <td>EAP</td>\n",
       "    </tr>\n",
       "    <tr>\n",
       "      <th>3</th>\n",
       "      <td>id27763</td>\n",
       "      <td>How lovely is spring As we looked from Windsor...</td>\n",
       "      <td>MWS</td>\n",
       "    </tr>\n",
       "    <tr>\n",
       "      <th>4</th>\n",
       "      <td>id12958</td>\n",
       "      <td>Finding nothing else, not even gold, the Super...</td>\n",
       "      <td>HPL</td>\n",
       "    </tr>\n",
       "  </tbody>\n",
       "</table>\n",
       "</div>"
      ],
      "text/plain": [
       "        id                                               text author\n",
       "0  id26305  This process, however, afforded me no means of...    EAP\n",
       "1  id17569  It never once occurred to me that the fumbling...    HPL\n",
       "2  id11008  In his left hand was a gold snuff box, from wh...    EAP\n",
       "3  id27763  How lovely is spring As we looked from Windsor...    MWS\n",
       "4  id12958  Finding nothing else, not even gold, the Super...    HPL"
      ]
     },
     "execution_count": 4,
     "metadata": {},
     "output_type": "execute_result"
    }
   ],
   "source": [
    "train_df.head()"
   ]
  },
  {
   "cell_type": "code",
   "execution_count": 5,
   "id": "c1edc074",
   "metadata": {},
   "outputs": [
    {
     "data": {
      "text/plain": [
       "(8392, 2)"
      ]
     },
     "execution_count": 5,
     "metadata": {},
     "output_type": "execute_result"
    }
   ],
   "source": [
    "test_df = pd.read_csv('test.csv')\n",
    "test_df.shape"
   ]
  },
  {
   "cell_type": "markdown",
   "id": "0df3372b",
   "metadata": {},
   "source": [
    "### Most common words"
   ]
  },
  {
   "cell_type": "code",
   "execution_count": 6,
   "id": "661851ea",
   "metadata": {},
   "outputs": [
    {
     "data": {
      "text/plain": [
       "<AxesSubplot:>"
      ]
     },
     "execution_count": 6,
     "metadata": {},
     "output_type": "execute_result"
    },
    {
     "data": {
      "image/png": "[encoded data removed]",
      "text/plain": [
       "<Figure size 432x288 with 1 Axes>"
      ]
     },
     "metadata": {
      "needs_background": "light"
     },
     "output_type": "display_data"
    }
   ],
   "source": [
    "pd.Series(' '.join(train_df['text']).lower().split()).value_counts()[:20].plot(kind='bar')"
   ]
  },
  {
   "cell_type": "markdown",
   "id": "5597f282",
   "metadata": {},
   "source": [
    "### Number of documents per author"
   ]
  },
  {
   "cell_type": "code",
   "execution_count": 7,
   "id": "fcc54993",
   "metadata": {},
   "outputs": [
    {
     "data": {
      "text/plain": [
       "<AxesSubplot:>"
      ]
     },
     "execution_count": 7,
     "metadata": {},
     "output_type": "execute_result"
    },
    {
     "data": {
      "image/png": "[encoded data removed]",
      "text/plain": [
       "<Figure size 432x288 with 1 Axes>"
      ]
     },
     "metadata": {
      "needs_background": "light"
     },
     "output_type": "display_data"
    }
   ],
   "source": [
    "train_df['author'].value_counts().plot(kind='bar')"
   ]
  },
  {
   "cell_type": "code",
   "execution_count": 8,
   "id": "26138c18",
   "metadata": {},
   "outputs": [
    {
     "data": {
      "text/plain": [
       "'This process, however, afforded me no means of ascertaining the dimensions of my dungeon; as I might make its circuit, and return to the point whence I set out, without being aware of the fact; so perfectly uniform seemed the wall.'"
      ]
     },
     "execution_count": 8,
     "metadata": {},
     "output_type": "execute_result"
    }
   ],
   "source": [
    "train = train_df.values.tolist()\n",
    "\n",
    "\n",
    "\n",
    "test = test_df.values.tolist()\n",
    "\n",
    "train[0][1]"
   ]
  },
  {
   "cell_type": "markdown",
   "id": "7c151a0c",
   "metadata": {},
   "source": [
    "### Average number of tokens per document"
   ]
  },
  {
   "cell_type": "code",
   "execution_count": 9,
   "id": "14e874b5",
   "metadata": {},
   "outputs": [
    {
     "data": {
      "text/plain": [
       "30.39930537821135"
      ]
     },
     "execution_count": 9,
     "metadata": {},
     "output_type": "execute_result"
    }
   ],
   "source": [
    "docs = []\n",
    "num_tokens = 0\n",
    "for doc in train:\n",
    "    d = nlp(str(doc[1]))\n",
    "    num_tokens += len(d)\n",
    "    \n",
    "    docs.append(d)\n",
    "    \n",
    "avg_tokens = num_tokens / len(docs)\n",
    "avg_tokens"
   ]
  },
  {
   "cell_type": "markdown",
   "id": "27e954ce",
   "metadata": {},
   "source": [
    "## Preprocessing"
   ]
  },
  {
   "cell_type": "markdown",
   "id": "6ef15b6c",
   "metadata": {},
   "source": [
    "### Convert to lowercase"
   ]
  },
  {
   "cell_type": "code",
   "execution_count": 10,
   "id": "6d722f39",
   "metadata": {},
   "outputs": [],
   "source": [
    "train = np.char.lower(train)\n",
    "\n",
    "\n",
    "\n",
    "test = np.char.lower(test)"
   ]
  },
  {
   "cell_type": "markdown",
   "id": "5b0c263f",
   "metadata": {},
   "source": [
    "### Remove symbols"
   ]
  },
  {
   "cell_type": "code",
   "execution_count": 11,
   "id": "de53dd63",
   "metadata": {},
   "outputs": [],
   "source": [
    "symbols = \"!\\\"#$%&()*+-./:;<=>?@[\\]^_`{|}~\\n\\t',\"\n",
    "\n",
    "for s in symbols:\n",
    "    train = np.char.replace(train, s, '')\n",
    "    \n",
    "    \n",
    "    \n",
    "    test = np.char.replace(test, s, '')"
   ]
  },
  {
   "cell_type": "code",
   "execution_count": 12,
   "id": "49df02c9",
   "metadata": {},
   "outputs": [
    {
     "data": {
      "text/plain": [
       "'this process however afforded me no means of ascertaining the dimensions of my dungeon as i might make its circuit and return to the point whence i set out without being aware of the fact so perfectly uniform seemed the wall'"
      ]
     },
     "execution_count": 12,
     "metadata": {},
     "output_type": "execute_result"
    }
   ],
   "source": [
    "train[0][1]"
   ]
  },
  {
   "cell_type": "code",
   "execution_count": 13,
   "id": "9d0a8c72",
   "metadata": {},
   "outputs": [],
   "source": [
    "docs = []\n",
    "\n",
    "for doc in train:\n",
    "    docs.append(nlp(str(doc[1])))\n",
    "    \n",
    "    \n",
    "    \n",
    "docs_test = []\n",
    "\n",
    "for doc in test:\n",
    "    docs_test.append(nlp(str(doc[1])))"
   ]
  },
  {
   "cell_type": "markdown",
   "id": "fcab5d21",
   "metadata": {},
   "source": [
    "### Remove stopwords"
   ]
  },
  {
   "cell_type": "code",
   "execution_count": 14,
   "id": "706510ad",
   "metadata": {},
   "outputs": [],
   "source": [
    "remove_sw = []\n",
    "\n",
    "for doc in docs:\n",
    "    new = ''\n",
    "    for token in doc:\n",
    "        if token.text not in set(stopwords.words('english')) and len(token.text) > 1:\n",
    "            new = new + ' ' + token.text\n",
    "            \n",
    "    remove_sw.append(new)\n",
    "    \n",
    "# clear up memory\n",
    "del docs\n",
    "\n",
    "\n",
    "\n",
    "remove_sw_test = []\n",
    "\n",
    "for doc in docs_test:\n",
    "    new = ''\n",
    "    for token in doc:\n",
    "        if token.text not in set(stopwords.words('english')) and len(token.text) > 1:\n",
    "            new = new + ' ' + token.text\n",
    "            \n",
    "    remove_sw_test.append(new)\n",
    "    \n",
    "# clear up memory\n",
    "del docs_test"
   ]
  },
  {
   "cell_type": "markdown",
   "id": "74f1384c",
   "metadata": {},
   "source": [
    "### Lemmatization"
   ]
  },
  {
   "cell_type": "code",
   "execution_count": 15,
   "id": "e88a8999",
   "metadata": {},
   "outputs": [],
   "source": [
    "docs = []\n",
    "for doc in remove_sw:\n",
    "    docs.append(nlp(str(doc)))\n",
    "    \n",
    "    \n",
    "    \n",
    "docs_test = []\n",
    "for doc in remove_sw_test:\n",
    "    docs_test.append(nlp(str(doc)))"
   ]
  },
  {
   "cell_type": "code",
   "execution_count": 16,
   "id": "6ff73ac2",
   "metadata": {},
   "outputs": [],
   "source": [
    "lemmas = []\n",
    "\n",
    "for doc in docs:\n",
    "    new = ''\n",
    "    for token in doc:\n",
    "        new = new + ' ' + token.lemma_\n",
    "        \n",
    "    lemmas.append(new)\n",
    "    \n",
    "    \n",
    "    \n",
    "lemmas_test = []\n",
    "\n",
    "for doc in docs_test:\n",
    "    new = ''\n",
    "    for token in doc:\n",
    "        new = new + ' ' + token.lemma_\n",
    "            \n",
    "    lemmas_test.append(new)"
   ]
  },
  {
   "cell_type": "code",
   "execution_count": 17,
   "id": "fd0ad45b",
   "metadata": {},
   "outputs": [],
   "source": [
    "# clear up memory\n",
    "del remove_sw\n",
    "del docs\n",
    "\n",
    "del remove_sw_test\n",
    "del docs_test"
   ]
  },
  {
   "cell_type": "markdown",
   "id": "42c53f75",
   "metadata": {},
   "source": [
    "### Vectorization"
   ]
  },
  {
   "cell_type": "code",
   "execution_count": 18,
   "id": "84aa7d44",
   "metadata": {},
   "outputs": [],
   "source": [
    "tfidf_vectorizer = TfidfVectorizer(min_df=0.001, max_df=1.0)\n",
    "\n",
    "tfidf = tfidf_vectorizer.fit_transform(lemmas)\n",
    "tfidf_df = pd.DataFrame(tfidf.toarray(), columns=tfidf_vectorizer.get_feature_names_out())\n",
    "\n",
    "\n",
    "\n",
    "tfidf_test = tfidf_vectorizer.transform(lemmas_test)\n",
    "tfidf_test_df = pd.DataFrame(tfidf_test.toarray(), columns=tfidf_vectorizer.get_feature_names_out())"
   ]
  },
  {
   "cell_type": "code",
   "execution_count": 19,
   "id": "b724c9e2",
   "metadata": {},
   "outputs": [
    {
     "data": {
      "text/plain": [
       "(19579, 2365)"
      ]
     },
     "execution_count": 19,
     "metadata": {},
     "output_type": "execute_result"
    }
   ],
   "source": [
    "tfidf_df.shape"
   ]
  },
  {
   "cell_type": "code",
   "execution_count": 20,
   "id": "709f3eff",
   "metadata": {},
   "outputs": [],
   "source": [
    "tf_vectorizer = CountVectorizer()\n",
    "\n",
    "tf = tf_vectorizer.fit_transform(lemmas)\n",
    "tf_df = pd.DataFrame(tf.toarray(), columns=tf_vectorizer.get_feature_names_out())\n",
    "\n",
    "\n",
    "\n",
    "tf_test = tf_vectorizer.transform(lemmas_test)\n",
    "tf_test_df = pd.DataFrame(tf_test.toarray(), columns=tf_vectorizer.get_feature_names_out())"
   ]
  },
  {
   "cell_type": "markdown",
   "id": "2a9118b2",
   "metadata": {},
   "source": [
    "## EDA after preprocessing"
   ]
  },
  {
   "cell_type": "code",
   "execution_count": 21,
   "id": "143a9d67",
   "metadata": {},
   "outputs": [
    {
     "data": {
      "text/plain": [
       "<AxesSubplot:>"
      ]
     },
     "execution_count": 21,
     "metadata": {},
     "output_type": "execute_result"
    },
    {
     "data": {
      "image/png": "[encoded data removed]",
      "text/plain": [
       "<Figure size 432x288 with 1 Axes>"
      ]
     },
     "metadata": {
      "needs_background": "light"
     },
     "output_type": "display_data"
    }
   ],
   "source": [
    "pd.Series(' '.join(pd.DataFrame(lemmas)[0]).lower().split()).value_counts()[:40].plot(kind='bar')"
   ]
  },
  {
   "cell_type": "markdown",
   "id": "1a387d14",
   "metadata": {},
   "source": [
    "## Topic Modelling\n",
    "### Non-Negative Matrix Factorization"
   ]
  },
  {
   "cell_type": "code",
   "execution_count": 34,
   "id": "eeeed826",
   "metadata": {},
   "outputs": [
    {
     "name": "stderr",
     "output_type": "stream",
     "text": [
      "C:\\Users\\muggs\\anaconda3\\lib\\site-packages\\sklearn\\decomposition\\_nmf.py:289: FutureWarning: The 'init' value, when 'init=None' and n_components is less than n_samples and n_features, will be changed from 'nndsvd' to 'nndsvda' in 1.1 (renaming of 0.26).\n",
      "  warnings.warn(\n"
     ]
    },
    {
     "data": {
      "text/plain": [
       "array([[0.03231338, 0.        , 0.        , ..., 0.00421456, 0.00045305,\n",
       "        0.        ],\n",
       "       [0.01424641, 0.00030146, 0.01362186, ..., 0.00229094, 0.        ,\n",
       "        0.        ],\n",
       "       [0.03100735, 0.00057326, 0.        , ..., 0.        , 0.00575194,\n",
       "        0.        ],\n",
       "       ...,\n",
       "       [0.        , 0.14742115, 0.02334135, ..., 0.00241737, 0.        ,\n",
       "        0.00187623],\n",
       "       [0.02582922, 0.        , 0.        , ..., 0.        , 0.        ,\n",
       "        0.        ],\n",
       "       [0.01239341, 0.        , 0.        , ..., 0.        , 0.00248844,\n",
       "        0.        ]])"
      ]
     },
     "execution_count": 34,
     "metadata": {},
     "output_type": "execute_result"
    }
   ],
   "source": [
    "nmf_model = NMF(n_components=10)\n",
    "nmf_model.fit_transform(tfidf_df)"
   ]
  },
  {
   "cell_type": "code",
   "execution_count": 35,
   "id": "2d1313ca",
   "metadata": {},
   "outputs": [],
   "source": [
    "nmf_results = nmf_model.transform(tfidf_test_df)"
   ]
  },
  {
   "cell_type": "markdown",
   "id": "39920955",
   "metadata": {},
   "source": [
    "#### Top 15 words of each topic"
   ]
  },
  {
   "cell_type": "code",
   "execution_count": 36,
   "id": "85b1d731",
   "metadata": {},
   "outputs": [
    {
     "name": "stdout",
     "output_type": "stream",
     "text": [
      "\n",
      "Topic  0 \n",
      " feel, leave, give, life, even, first, day, we, seem, take, long, yet, find, make, time\n",
      "\n",
      "Topic  1 \n",
      " mean, go, must, dear, sir, let, well, not, much, may, nothing, dupin, shall, little, say\n",
      "\n",
      "Topic  2 \n",
      " water, stand, dark, like, tree, thing, light, not, face, ever, hear, eye, look, never, see\n",
      "\n",
      "Topic  3 \n",
      " house, tell, foot, reply, small, might, voice, old, side, night, thing, every, two, another, one\n",
      "\n",
      "Topic  4 \n",
      " wish, raymond, case, even, follow, alone, not, go, never, might, hope, well, return, think, would\n",
      "\n",
      "Topic  5 \n",
      " believe, never, whether, want, god, think, though, world, nothing, tell, must, not, thing, well, know\n",
      "\n",
      "Topic  6 \n",
      " woman, good, animal, look, dead, dream, face, thing, tell, live, god, great, young, old, man\n",
      "\n",
      "Topic  7 \n",
      " thing, doubt, human, scarcely, do, understand, perceive, distinguish, believe, even, help, tell, word, nothing, could\n",
      "\n",
      "Topic  8 \n",
      " turn, arm, table, foot, thus, subject, lie, sit, throw, eye, head, fall, hand, look, upon\n",
      "\n",
      "Topic  9 \n",
      " hear, home, sleep, sound, far, last, house, tell, light, still, day, back, night, go, come\n"
     ]
    },
    {
     "name": "stderr",
     "output_type": "stream",
     "text": [
      "C:\\Users\\muggs\\anaconda3\\lib\\site-packages\\sklearn\\utils\\deprecation.py:87: FutureWarning: Function get_feature_names is deprecated; get_feature_names is deprecated in 1.0 and will be removed in 1.2. Please use get_feature_names_out instead.\n",
      "  warnings.warn(msg, category=FutureWarning)\n"
     ]
    }
   ],
   "source": [
    "tn = None\n",
    "\n",
    "for i, topic in enumerate(nmf_model.components_):\n",
    "    print(\"\\nTopic \", i, '\\n', \", \".join([tfidf_vectorizer.get_feature_names()[i] for i in topic.argsort()[-15:]]))"
   ]
  },
  {
   "cell_type": "markdown",
   "id": "6a074d12",
   "metadata": {},
   "source": [
    "### Latent Dirichlet Allocation"
   ]
  },
  {
   "cell_type": "code",
   "execution_count": 25,
   "id": "b8845d49",
   "metadata": {},
   "outputs": [
    {
     "data": {
      "text/plain": [
       "array([[0.00454695, 0.0045472 , 0.00454701, ..., 0.0045473 , 0.47900525,\n",
       "        0.48461803],\n",
       "       [0.01428868, 0.57441969, 0.01428736, ..., 0.31126856, 0.01428704,\n",
       "        0.01428914],\n",
       "       [0.00500108, 0.0050011 , 0.00500223, ..., 0.95498631, 0.00500174,\n",
       "        0.00500188],\n",
       "       ...,\n",
       "       [0.01000522, 0.01000242, 0.01000109, ..., 0.01000319, 0.90996834,\n",
       "        0.01000577],\n",
       "       [0.01250536, 0.01250663, 0.01250752, ..., 0.01250194, 0.01250281,\n",
       "        0.01250406],\n",
       "       [0.01111323, 0.01111327, 0.27305026, ..., 0.47395868, 0.01111398,\n",
       "        0.01111521]])"
      ]
     },
     "execution_count": 25,
     "metadata": {},
     "output_type": "execute_result"
    }
   ],
   "source": [
    "lda_model = LatentDirichletAllocation()\n",
    "\n",
    "lda_model.fit_transform(tf_df)"
   ]
  },
  {
   "cell_type": "markdown",
   "id": "4c1e0a0b",
   "metadata": {},
   "source": [
    "#### Top 15 words of each topic"
   ]
  },
  {
   "cell_type": "code",
   "execution_count": 26,
   "id": "8432ba9c",
   "metadata": {},
   "outputs": [
    {
     "name": "stderr",
     "output_type": "stream",
     "text": [
      "C:\\Users\\muggs\\anaconda3\\lib\\site-packages\\sklearn\\utils\\deprecation.py:87: FutureWarning: Function get_feature_names is deprecated; get_feature_names is deprecated in 1.0 and will be removed in 1.2. Please use get_feature_names_out instead.\n",
      "  warnings.warn(msg, category=FutureWarning)\n"
     ]
    },
    {
     "name": "stdout",
     "output_type": "stream",
     "text": [
      "\n",
      "Topic  0 \n",
      " time, return, death, long, day, raymond, life, shall, hope, feel, yet, upon, love, heart, would\n",
      "\n",
      "Topic  1 \n",
      " first, give, earth, might, take, make, love, eye, great, we, thing, find, see, one, say\n",
      "\n",
      "Topic  2 \n",
      " one, hand, fall, every, see, could, become, open, light, window, make, room, we, door, upon\n",
      "\n",
      "Topic  3 \n",
      " time, hear, nothing, still, old, look, great, point, seem, like, man, voice, one, say, upon\n",
      "\n",
      "Topic  4 \n",
      " leave, hear, man, old, never, like, could, say, see, one, know, tell, thing, come, not\n",
      "\n",
      "Topic  5 \n",
      " seem, time, thing, yet, look, moon, light, man, dream, upon, hear, great, even, could, see\n",
      "\n",
      "Topic  6 \n",
      " say, make, might, back, must, come, find, old, know, go, see, house, could, one, man\n",
      "\n",
      "Topic  7 \n",
      " seem, thousand, hour, may, time, might, even, life, year, upon, make, one, man, would, day\n",
      "\n",
      "Topic  8 \n",
      " long, great, say, body, three, get, two, find, one, could, know, well, street, make, would\n",
      "\n",
      "Topic  9 \n",
      " tear, time, take, night, like, first, even, never, say, long, hand, upon, could, eye, one\n"
     ]
    }
   ],
   "source": [
    "tn = None\n",
    "\n",
    "for i, topic in enumerate(lda_model.components_):\n",
    "    print(\"\\nTopic \", i, '\\n', \", \".join([tf_vectorizer.get_feature_names()[i] for i in topic.argsort()[-15:]]))"
   ]
  },
  {
   "cell_type": "code",
   "execution_count": 27,
   "id": "eb998f2d",
   "metadata": {},
   "outputs": [],
   "source": [
    "lda_results = lda_model.transform(tf_test_df)"
   ]
  },
  {
   "cell_type": "markdown",
   "id": "f3d691bb",
   "metadata": {},
   "source": [
    "## Results\n",
    "### Sample documents from test set"
   ]
  },
  {
   "cell_type": "code",
   "execution_count": 28,
   "id": "e7f4fd59",
   "metadata": {},
   "outputs": [
    {
     "data": {
      "text/plain": [
       "'Still, as I urged our leaving Ireland with such inquietude and impatience, my father thought it best to yield.'"
      ]
     },
     "execution_count": 28,
     "metadata": {},
     "output_type": "execute_result"
    }
   ],
   "source": [
    "test_df['text'][0]"
   ]
  },
  {
   "cell_type": "code",
   "execution_count": 29,
   "id": "1f17f9f2",
   "metadata": {},
   "outputs": [
    {
     "data": {
      "text/plain": [
       "'I am not sure to what limit his knowledge may extend.'"
      ]
     },
     "execution_count": 29,
     "metadata": {},
     "output_type": "execute_result"
    }
   ],
   "source": [
    "test_df['text'][4]"
   ]
  },
  {
   "cell_type": "markdown",
   "id": "1cea7f25",
   "metadata": {},
   "source": [
    "### NMF"
   ]
  },
  {
   "cell_type": "code",
   "execution_count": 37,
   "id": "253214b3",
   "metadata": {},
   "outputs": [
    {
     "data": {
      "text/plain": [
       "0"
      ]
     },
     "execution_count": 37,
     "metadata": {},
     "output_type": "execute_result"
    }
   ],
   "source": [
    "nmf_results[0].argmax()"
   ]
  },
  {
   "cell_type": "code",
   "execution_count": 38,
   "id": "97712bd2",
   "metadata": {},
   "outputs": [
    {
     "data": {
      "text/plain": [
       "0"
      ]
     },
     "execution_count": 38,
     "metadata": {},
     "output_type": "execute_result"
    }
   ],
   "source": [
    "nmf_results[4].argmax()"
   ]
  },
  {
   "cell_type": "markdown",
   "id": "51201aa1",
   "metadata": {},
   "source": [
    "### LDA"
   ]
  },
  {
   "cell_type": "code",
   "execution_count": 32,
   "id": "73794884",
   "metadata": {},
   "outputs": [
    {
     "data": {
      "text/plain": [
       "0"
      ]
     },
     "execution_count": 32,
     "metadata": {},
     "output_type": "execute_result"
    }
   ],
   "source": [
    "lda_results[0].argmax()"
   ]
  },
  {
   "cell_type": "code",
   "execution_count": 33,
   "id": "f4e10744",
   "metadata": {},
   "outputs": [
    {
     "data": {
      "text/plain": [
       "7"
      ]
     },
     "execution_count": 33,
     "metadata": {},
     "output_type": "execute_result"
    }
   ],
   "source": [
    "lda_results[4].argmax()"
   ]
  },
  {
   "cell_type": "markdown",
   "id": "c9a43e66",
   "metadata": {},
   "source": [
    "### The non-negative matrix factorization predicted both test document 1 and 5 to belong to topic 0 which consisted of words like: \n",
    "##### feel, leave, give, life, even, first, day, we, seem, take, long, yet, find, make, and time.\n",
    "### NMF factorization did not perform adequately because the words of topic 0 only loosely correlate to the content of the test documents. Further experimentation revealed about half of the documents were predicted to belong to topic 0. NMF modeled information in such a way that it favors topic 0."
   ]
  },
  {
   "cell_type": "markdown",
   "id": "97a4f12e",
   "metadata": {},
   "source": [
    "### The Latent Dirichlet Allocation classified test document 1 as belonging to topic 9 and test document 5 as belonging to topic 2 which respectively consisted of words like:\n",
    "###### Topic 2: come, may, little, make, de, time, find, must, man, well, would, much, matter, know, say\n",
    "###### Topic 9:  love, make, give, visit, day, friend, take, return, first, house, father, old, one, life, could\n",
    "### LDA did well at classifying both documents because the words which describe each topic resemble the content of the respective documents."
   ]
  },
  {
   "cell_type": "markdown",
   "id": "af2adbd9",
   "metadata": {},
   "source": [
    "## Conclusion:\n",
    "### LDA outperformed NMF for topic modeling, assigning topics to test documents that felt similar intuitively."
   ]
  }
 ],
 "metadata": {
  "kernelspec": {
   "display_name": "Python 3 (ipykernel)",
   "language": "python",
   "name": "python3"
  },
  "language_info": {
   "codemirror_mode": {
    "name": "ipython",
    "version": 3
   },
   "file_extension": ".py",
   "mimetype": "text/x-python",
   "name": "python",
   "nbconvert_exporter": "python",
   "pygments_lexer": "ipython3",
   "version": "3.9.12"
  }
 },
 "nbformat": 4,
 "nbformat_minor": 5
}
